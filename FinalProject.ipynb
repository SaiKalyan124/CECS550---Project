{
  "nbformat": 4,
  "nbformat_minor": 0,
  "metadata": {
    "colab": {
      "provenance": []
    },
    "kernelspec": {
      "name": "python3",
      "display_name": "Python 3"
    },
    "language_info": {
      "name": "python"
    }
  },
  "cells": [
    {
      "cell_type": "markdown",
      "source": [
        "# PART ONE - Import from CSV\n",
        "The below code is run only once to extract information for ID range for Group 8"
      ],
      "metadata": {
        "id": "6qKZ19BGwKl_"
      }
    },
    {
      "cell_type": "code",
      "source": [
        "import sys\n",
        "import csv\n",
        "import pandas as pd\n",
        "csv.field_size_limit(sys.maxsize)\n",
        "\n",
        "\n"
      ],
      "metadata": {
        "id": "zFhjYIfXVnR0",
        "outputId": "ba9c5827-39f1-45a3-e903-86f53d06b00e",
        "colab": {
          "base_uri": "https://localhost:8080/"
        }
      },
      "execution_count": 68,
      "outputs": [
        {
          "output_type": "execute_result",
          "data": {
            "text/plain": [
              "9223372036854775807"
            ]
          },
          "metadata": {},
          "execution_count": 68
        }
      ]
    },
    {
      "cell_type": "code",
      "source": [],
      "metadata": {
        "id": "QzalVtZ32EjS"
      },
      "execution_count": 68,
      "outputs": []
    },
    {
      "cell_type": "code",
      "source": [
        "from google.colab import drive\n",
        "drive.mount('/content/drive')"
      ],
      "metadata": {
        "colab": {
          "base_uri": "https://localhost:8080/"
        },
        "id": "otKMH4wPbMMw",
        "outputId": "3a28c42a-3069-4075-c041-37ff7de0a29a"
      },
      "execution_count": 69,
      "outputs": [
        {
          "output_type": "stream",
          "name": "stdout",
          "text": [
            "Drive already mounted at /content/drive; to attempt to forcibly remount, call drive.mount(\"/content/drive\", force_remount=True).\n"
          ]
        }
      ]
    },
    {
      "cell_type": "code",
      "source": [
        "cd /content/drive/MyDrive/CECS550_DATASET"
      ],
      "metadata": {
        "colab": {
          "base_uri": "https://localhost:8080/"
        },
        "id": "eoPCVFdL2Mwi",
        "outputId": "441daf07-123f-408f-f0ba-4a29df6f40c2"
      },
      "execution_count": 70,
      "outputs": [
        {
          "output_type": "stream",
          "name": "stdout",
          "text": [
            "/content/drive/MyDrive/CECS550_DATASET\n"
          ]
        }
      ]
    },
    {
      "cell_type": "code",
      "source": [
        "path = \"new_data.csv\"\n",
        "reader = pd.read_csv(path)"
      ],
      "metadata": {
        "id": "uvAd4ENo2BYg"
      },
      "execution_count": 71,
      "outputs": []
    },
    {
      "cell_type": "code",
      "source": [
        "rows = []\n",
        "def extract_number(string):\n",
        "    if pd.isna(string):\n",
        "        return 0\n",
        "    else:\n",
        "        string = str(string)\n",
        "        return int(string.split(':')[0])\n",
        "\n",
        "for i,row in reader.iterrows():\n",
        "    activity_logs = row['activity_log']\n",
        "    if not pd.isna(activity_logs):\n",
        "        item_ids = []\n",
        "        for activity_log in activity_logs.split('#'):\n",
        "            item_id = extract_number(activity_log)\n",
        "            if item_id >= 1121 and item_id <= 1280:\n",
        "                item_ids.append(activity_log)\n",
        "        if item_ids:\n",
        "            row['new_activity_log'] = '#'.join(item_ids)\n",
        "            rows.append(row)\n",
        "\n",
        "df_1 = pd.DataFrame(rows)\n",
        "print(df_1.info())"
      ],
      "metadata": {
        "colab": {
          "base_uri": "https://localhost:8080/"
        },
        "id": "r2PqNqZj3rKp",
        "outputId": "08068657-f39e-4f5b-c9c3-ed0302439f67"
      },
      "execution_count": 72,
      "outputs": [
        {
          "output_type": "stream",
          "name": "stdout",
          "text": [
            "<class 'pandas.core.frame.DataFrame'>\n",
            "Int64Index: 2606 entries, 0 to 2605\n",
            "Data columns (total 10 columns):\n",
            " #   Column            Non-Null Count  Dtype  \n",
            "---  ------            --------------  -----  \n",
            " 0   Unnamed: 0.2      2606 non-null   int64  \n",
            " 1   Unnamed: 0.1      2606 non-null   int64  \n",
            " 2   Unnamed: 0        2606 non-null   int64  \n",
            " 3   user_id           2606 non-null   int64  \n",
            " 4   age_range         2600 non-null   float64\n",
            " 5   gender            2590 non-null   float64\n",
            " 6   merchant_id       2606 non-null   int64  \n",
            " 7   label             2606 non-null   int64  \n",
            " 8   activity_log      2606 non-null   object \n",
            " 9   new_activity_log  2606 non-null   object \n",
            "dtypes: float64(2), int64(6), object(2)\n",
            "memory usage: 224.0+ KB\n",
            "None\n"
          ]
        }
      ]
    },
    {
      "cell_type": "code",
      "source": [
        "# Drop activity_log column and rename new_activity_log to activity_log\n",
        "df_1 = df_1.drop('activity_log', axis=1).rename(columns={'new_activity_log': 'activity_log'})"
      ],
      "metadata": {
        "id": "9Tc0xmJ65HYU"
      },
      "execution_count": 73,
      "outputs": []
    },
    {
      "cell_type": "code",
      "source": [
        "# select rows where label is 1 and only 8 from df_1 has label\n",
        "data_with_label_1 = reader[reader['label'] == 1]\n",
        "# randomly select 20% of the rows where label is 1\n",
        "df_2 = data_with_label_1.sample(frac=0.012, random_state=42)\n",
        "df_new = pd.concat([df_1, df_2])"
      ],
      "metadata": {
        "id": "VW7YVKeteE9D"
      },
      "execution_count": 74,
      "outputs": []
    },
    {
      "cell_type": "code",
      "source": [
        "#Use this new data - from now on\n",
        "df_new.to_csv('new_data.csv')"
      ],
      "metadata": {
        "id": "Y0iytXlLpRl9"
      },
      "execution_count": 75,
      "outputs": []
    },
    {
      "cell_type": "markdown",
      "source": [
        "# PART TWO - Importing assigned csv"
      ],
      "metadata": {
        "id": "O8MZKwepwkrM"
      }
    },
    {
      "cell_type": "code",
      "source": [
        "import sys\n",
        "import csv\n",
        "import pandas as pd\n",
        "csv.field_size_limit(sys.maxsize)\n",
        "path = \"new_data.csv\"\n",
        "df = pd.read_csv(path)"
      ],
      "metadata": {
        "id": "Ow1KG7CgEq0c"
      },
      "execution_count": 76,
      "outputs": []
    },
    {
      "cell_type": "code",
      "source": [
        "df.info()"
      ],
      "metadata": {
        "colab": {
          "base_uri": "https://localhost:8080/"
        },
        "id": "wMXllsdwFeYe",
        "outputId": "2d779188-c3c9-440e-eb20-95773f078609"
      },
      "execution_count": 77,
      "outputs": [
        {
          "output_type": "stream",
          "name": "stdout",
          "text": [
            "<class 'pandas.core.frame.DataFrame'>\n",
            "RangeIndex: 2606 entries, 0 to 2605\n",
            "Data columns (total 10 columns):\n",
            " #   Column        Non-Null Count  Dtype  \n",
            "---  ------        --------------  -----  \n",
            " 0   Unnamed: 0.3  2606 non-null   int64  \n",
            " 1   Unnamed: 0.2  2606 non-null   int64  \n",
            " 2   Unnamed: 0.1  2606 non-null   int64  \n",
            " 3   Unnamed: 0    2606 non-null   int64  \n",
            " 4   user_id       2606 non-null   int64  \n",
            " 5   age_range     2600 non-null   float64\n",
            " 6   gender        2590 non-null   float64\n",
            " 7   merchant_id   2606 non-null   int64  \n",
            " 8   label         2606 non-null   int64  \n",
            " 9   activity_log  2606 non-null   object \n",
            "dtypes: float64(2), int64(7), object(1)\n",
            "memory usage: 203.7+ KB\n"
          ]
        }
      ]
    },
    {
      "cell_type": "code",
      "source": [
        "# Spliting activity_log by \"#\" and creating a list of lists\n",
        "logs = [log.split('#') for log in df['activity_log']]\n",
        "# Spliting each log by \":\" and extracting individual values\n",
        "item_ids = []\n",
        "category_ids = []\n",
        "brand_ids = []\n",
        "time_stamps = []\n",
        "action_types = []\n",
        "\n",
        "for log in logs:\n",
        "    item_ids_temp = []\n",
        "    category_ids_temp = []\n",
        "    brand_ids_temp = []\n",
        "    time_stamps_temp = []\n",
        "    action_types_temp = []\n",
        "    for entry in log:\n",
        "        entry_values = entry.split(':')\n",
        "        item_ids_temp.append(entry_values[0])\n",
        "        category_ids_temp.append(entry_values[1])\n",
        "        brand_ids_temp.append(entry_values[2])\n",
        "        time_stamps_temp.append(entry_values[3])\n",
        "        action_types_temp.append(entry_values[4])\n",
        "        \n",
        "    item_ids.append(item_ids_temp)\n",
        "    category_ids.append(category_ids_temp)\n",
        "    brand_ids.append(brand_ids_temp)\n",
        "    time_stamps.append(time_stamps_temp)\n",
        "    action_types.append(action_types_temp)\n",
        "\n",
        "# Added new columns for each extracted value\n",
        "df['item_id'] = item_ids\n",
        "df['category_id'] = category_ids\n",
        "df['brand_id'] = brand_ids\n",
        "df['time_stamp'] = time_stamps\n",
        "df['action_type'] = action_types\n",
        "\n",
        "# Droped activity_log column - not needed\n",
        "df = df.drop('activity_log', axis=1)"
      ],
      "metadata": {
        "id": "5Ej3ZIcp8Qak"
      },
      "execution_count": 78,
      "outputs": []
    },
    {
      "cell_type": "code",
      "source": [
        "print(df.head(5))"
      ],
      "metadata": {
        "colab": {
          "base_uri": "https://localhost:8080/"
        },
        "id": "0vEuZlFyFrpH",
        "outputId": "0db1abb6-75d3-4fe8-9dd8-4412502ed540"
      },
      "execution_count": 79,
      "outputs": [
        {
          "output_type": "stream",
          "name": "stdout",
          "text": [
            "   Unnamed: 0.3  Unnamed: 0.2  Unnamed: 0.1  Unnamed: 0  user_id  age_range  \\\n",
            "0             0             0             0       14527   338817        3.0   \n",
            "1             1             1             1       15997   149121        5.0   \n",
            "2             2             2             2       16308    85377        3.0   \n",
            "3             3             3             3       16312    85377        3.0   \n",
            "4             4             4             4       18315    35202        3.0   \n",
            "\n",
            "   gender  merchant_id  label       item_id category_id      brand_id  \\\n",
            "0     0.0          506     -1        [1194]       [464]        [7500]   \n",
            "1     1.0         2468     -1        [1265]       [776]        [1392]   \n",
            "2     1.0         3183     -1  [1272, 1272]  [407, 407]  [8235, 8235]   \n",
            "3     1.0         3491     -1        [1151]      [1611]        [3969]   \n",
            "4     1.0         1887     -1        [1142]      [1389]        [3481]   \n",
            "\n",
            "     time_stamp action_type  \n",
            "0        [0511]         [3]  \n",
            "1        [0822]         [0]  \n",
            "2  [0626, 0618]      [0, 0]  \n",
            "3        [1111]         [0]  \n",
            "4        [1101]         [0]  \n"
          ]
        }
      ]
    },
    {
      "cell_type": "markdown",
      "source": [
        "# Data PreProcessing\n"
      ],
      "metadata": {
        "id": "tJTMleR6FtO7"
      }
    },
    {
      "cell_type": "code",
      "source": [
        "#The below code handles null values for age range and gender"
      ],
      "metadata": {
        "id": "iOysVr_6FzPs"
      },
      "execution_count": 80,
      "outputs": []
    },
    {
      "cell_type": "markdown",
      "source": [
        "#Data Visualization"
      ],
      "metadata": {
        "id": "teoyBOPTZgyt"
      }
    },
    {
      "cell_type": "code",
      "source": [
        "import seaborn as sns\n",
        "import numpy as np\n",
        "import matplotlib.pyplot as plt\n",
        "%matplotlib inline"
      ],
      "metadata": {
        "id": "PRx2nuf2W4x8"
      },
      "execution_count": 81,
      "outputs": []
    },
    {
      "cell_type": "code",
      "source": [
        "#Chart 1 : Most action type performed by customer \n",
        "# 88.2% clicked once - 4.5% add to favourite - 7.3% purchased info\n",
        "# Count the number of occurrences of each action type\n",
        "action_counts = df['action_type'].explode().value_counts()\n",
        "\n",
        "# Create a pie chart of the action_type counts\n",
        "plt.figure(figsize=(8, 8))\n",
        "plt.pie(action_counts.values, labels=action_counts.index, autopct='%1.1f%%')\n",
        "plt.title('Action Type Counts')\n",
        "plt.show()\n"
      ],
      "metadata": {
        "colab": {
          "base_uri": "https://localhost:8080/",
          "height": 675
        },
        "id": "weW7Olf_PskE",
        "outputId": "ee6ea363-12ce-45ff-d1b6-a5dfe4c90e08"
      },
      "execution_count": 82,
      "outputs": [
        {
          "output_type": "display_data",
          "data": {
            "text/plain": [
              "<Figure size 800x800 with 1 Axes>"
            ],
            "image/png": "[encoded data removed]"
          },
          "metadata": {}
        }
      ]
    },
    {
      "cell_type": "code",
      "source": [
        "\n",
        "#Chart 2 : This code will plot a bar chart of the top 10 famous merchants with the highest number of repeated users, sorted in descending order. \n",
        "\n",
        "# Filtering the dataframe to only include rows with label = 1\n",
        "df_repeated = df[df['label'] == 1]\n",
        "# Grouping the data by merchant_id and count the number of unique user_ids\n",
        "merchant_counts = df_repeated.groupby('merchant_id')['user_id'].nunique()\n",
        "# Sorting the merchant counts in descending order\n",
        "merchant_counts = merchant_counts.sort_values(ascending=False)\n",
        "#top 10 famous merchants\n",
        "N = 10\n",
        "plt.bar(range(N), merchant_counts.values[:N])\n",
        "plt.xticks(range(N), merchant_counts.index[:N])\n",
        "plt.xlabel('Merchant ID')\n",
        "plt.ylabel('Number of Repeated Users')\n",
        "plt.title('Famous Merchants with Repeated Users (Label = 1)')\n",
        "plt.show()\n",
        "\n"
      ],
      "metadata": {
        "colab": {
          "base_uri": "https://localhost:8080/",
          "height": 798
        },
        "id": "zxi9GNLuoYuI",
        "outputId": "7df5a01c-cbdf-497e-c4f6-18db1db19580"
      },
      "execution_count": 83,
      "outputs": [
        {
          "output_type": "error",
          "ename": "ValueError",
          "evalue": "ignored",
          "traceback": [
            "\u001b[0;31m---------------------------------------------------------------------------\u001b[0m",
            "\u001b[0;31mValueError\u001b[0m                                Traceback (most recent call last)",
            "\u001b[0;32m<ipython-input-83-dc4e053b6bf9>\u001b[0m in \u001b[0;36m<cell line: 11>\u001b[0;34m()\u001b[0m\n\u001b[1;32m      9\u001b[0m \u001b[0;31m#top 10 famous merchants\u001b[0m\u001b[0;34m\u001b[0m\u001b[0;34m\u001b[0m\u001b[0m\n\u001b[1;32m     10\u001b[0m \u001b[0mN\u001b[0m \u001b[0;34m=\u001b[0m \u001b[0;36m10\u001b[0m\u001b[0;34m\u001b[0m\u001b[0;34m\u001b[0m\u001b[0m\n\u001b[0;32m---> 11\u001b[0;31m \u001b[0mplt\u001b[0m\u001b[0;34m.\u001b[0m\u001b[0mbar\u001b[0m\u001b[0;34m(\u001b[0m\u001b[0mrange\u001b[0m\u001b[0;34m(\u001b[0m\u001b[0mN\u001b[0m\u001b[0;34m)\u001b[0m\u001b[0;34m,\u001b[0m \u001b[0mmerchant_counts\u001b[0m\u001b[0;34m.\u001b[0m\u001b[0mvalues\u001b[0m\u001b[0;34m[\u001b[0m\u001b[0;34m:\u001b[0m\u001b[0mN\u001b[0m\u001b[0;34m]\u001b[0m\u001b[0;34m)\u001b[0m\u001b[0;34m\u001b[0m\u001b[0;34m\u001b[0m\u001b[0m\n\u001b[0m\u001b[1;32m     12\u001b[0m \u001b[0mplt\u001b[0m\u001b[0;34m.\u001b[0m\u001b[0mxticks\u001b[0m\u001b[0;34m(\u001b[0m\u001b[0mrange\u001b[0m\u001b[0;34m(\u001b[0m\u001b[0mN\u001b[0m\u001b[0;34m)\u001b[0m\u001b[0;34m,\u001b[0m \u001b[0mmerchant_counts\u001b[0m\u001b[0;34m.\u001b[0m\u001b[0mindex\u001b[0m\u001b[0;34m[\u001b[0m\u001b[0;34m:\u001b[0m\u001b[0mN\u001b[0m\u001b[0;34m]\u001b[0m\u001b[0;34m)\u001b[0m\u001b[0;34m\u001b[0m\u001b[0;34m\u001b[0m\u001b[0m\n\u001b[1;32m     13\u001b[0m \u001b[0mplt\u001b[0m\u001b[0;34m.\u001b[0m\u001b[0mxlabel\u001b[0m\u001b[0;34m(\u001b[0m\u001b[0;34m'Merchant ID'\u001b[0m\u001b[0;34m)\u001b[0m\u001b[0;34m\u001b[0m\u001b[0;34m\u001b[0m\u001b[0m\n",
            "\u001b[0;32m/usr/local/lib/python3.9/dist-packages/matplotlib/pyplot.py\u001b[0m in \u001b[0;36mbar\u001b[0;34m(x, height, width, bottom, align, data, **kwargs)\u001b[0m\n\u001b[1;32m   2437\u001b[0m         \u001b[0mx\u001b[0m\u001b[0;34m,\u001b[0m \u001b[0mheight\u001b[0m\u001b[0;34m,\u001b[0m \u001b[0mwidth\u001b[0m\u001b[0;34m=\u001b[0m\u001b[0;36m0.8\u001b[0m\u001b[0;34m,\u001b[0m \u001b[0mbottom\u001b[0m\u001b[0;34m=\u001b[0m\u001b[0;32mNone\u001b[0m\u001b[0;34m,\u001b[0m \u001b[0;34m*\u001b[0m\u001b[0;34m,\u001b[0m \u001b[0malign\u001b[0m\u001b[0;34m=\u001b[0m\u001b[0;34m'center'\u001b[0m\u001b[0;34m,\u001b[0m\u001b[0;34m\u001b[0m\u001b[0;34m\u001b[0m\u001b[0m\n\u001b[1;32m   2438\u001b[0m         data=None, **kwargs):\n\u001b[0;32m-> 2439\u001b[0;31m     return gca().bar(\n\u001b[0m\u001b[1;32m   2440\u001b[0m         \u001b[0mx\u001b[0m\u001b[0;34m,\u001b[0m \u001b[0mheight\u001b[0m\u001b[0;34m,\u001b[0m \u001b[0mwidth\u001b[0m\u001b[0;34m=\u001b[0m\u001b[0mwidth\u001b[0m\u001b[0;34m,\u001b[0m \u001b[0mbottom\u001b[0m\u001b[0;34m=\u001b[0m\u001b[0mbottom\u001b[0m\u001b[0;34m,\u001b[0m \u001b[0malign\u001b[0m\u001b[0;34m=\u001b[0m\u001b[0malign\u001b[0m\u001b[0;34m,\u001b[0m\u001b[0;34m\u001b[0m\u001b[0;34m\u001b[0m\u001b[0m\n\u001b[1;32m   2441\u001b[0m         **({\"data\": data} if data is not None else {}), **kwargs)\n",
            "\u001b[0;32m/usr/local/lib/python3.9/dist-packages/matplotlib/__init__.py\u001b[0m in \u001b[0;36minner\u001b[0;34m(ax, data, *args, **kwargs)\u001b[0m\n\u001b[1;32m   1440\u001b[0m     \u001b[0;32mdef\u001b[0m \u001b[0minner\u001b[0m\u001b[0;34m(\u001b[0m\u001b[0max\u001b[0m\u001b[0;34m,\u001b[0m \u001b[0;34m*\u001b[0m\u001b[0margs\u001b[0m\u001b[0;34m,\u001b[0m \u001b[0mdata\u001b[0m\u001b[0;34m=\u001b[0m\u001b[0;32mNone\u001b[0m\u001b[0;34m,\u001b[0m \u001b[0;34m**\u001b[0m\u001b[0mkwargs\u001b[0m\u001b[0;34m)\u001b[0m\u001b[0;34m:\u001b[0m\u001b[0;34m\u001b[0m\u001b[0;34m\u001b[0m\u001b[0m\n\u001b[1;32m   1441\u001b[0m         \u001b[0;32mif\u001b[0m \u001b[0mdata\u001b[0m \u001b[0;32mis\u001b[0m \u001b[0;32mNone\u001b[0m\u001b[0;34m:\u001b[0m\u001b[0;34m\u001b[0m\u001b[0;34m\u001b[0m\u001b[0m\n\u001b[0;32m-> 1442\u001b[0;31m             \u001b[0;32mreturn\u001b[0m \u001b[0mfunc\u001b[0m\u001b[0;34m(\u001b[0m\u001b[0max\u001b[0m\u001b[0;34m,\u001b[0m \u001b[0;34m*\u001b[0m\u001b[0mmap\u001b[0m\u001b[0;34m(\u001b[0m\u001b[0msanitize_sequence\u001b[0m\u001b[0;34m,\u001b[0m \u001b[0margs\u001b[0m\u001b[0;34m)\u001b[0m\u001b[0;34m,\u001b[0m \u001b[0;34m**\u001b[0m\u001b[0mkwargs\u001b[0m\u001b[0;34m)\u001b[0m\u001b[0;34m\u001b[0m\u001b[0;34m\u001b[0m\u001b[0m\n\u001b[0m\u001b[1;32m   1443\u001b[0m \u001b[0;34m\u001b[0m\u001b[0m\n\u001b[1;32m   1444\u001b[0m         \u001b[0mbound\u001b[0m \u001b[0;34m=\u001b[0m \u001b[0mnew_sig\u001b[0m\u001b[0;34m.\u001b[0m\u001b[0mbind\u001b[0m\u001b[0;34m(\u001b[0m\u001b[0max\u001b[0m\u001b[0;34m,\u001b[0m \u001b[0;34m*\u001b[0m\u001b[0margs\u001b[0m\u001b[0;34m,\u001b[0m \u001b[0;34m**\u001b[0m\u001b[0mkwargs\u001b[0m\u001b[0;34m)\u001b[0m\u001b[0;34m\u001b[0m\u001b[0;34m\u001b[0m\u001b[0m\n",
            "\u001b[0;32m/usr/local/lib/python3.9/dist-packages/matplotlib/axes/_axes.py\u001b[0m in \u001b[0;36mbar\u001b[0;34m(self, x, height, width, bottom, align, **kwargs)\u001b[0m\n\u001b[1;32m   2415\u001b[0m                 \u001b[0myerr\u001b[0m \u001b[0;34m=\u001b[0m \u001b[0mself\u001b[0m\u001b[0;34m.\u001b[0m\u001b[0m_convert_dx\u001b[0m\u001b[0;34m(\u001b[0m\u001b[0myerr\u001b[0m\u001b[0;34m,\u001b[0m \u001b[0my0\u001b[0m\u001b[0;34m,\u001b[0m \u001b[0my\u001b[0m\u001b[0;34m,\u001b[0m \u001b[0mself\u001b[0m\u001b[0;34m.\u001b[0m\u001b[0mconvert_yunits\u001b[0m\u001b[0;34m)\u001b[0m\u001b[0;34m\u001b[0m\u001b[0;34m\u001b[0m\u001b[0m\n\u001b[1;32m   2416\u001b[0m \u001b[0;34m\u001b[0m\u001b[0m\n\u001b[0;32m-> 2417\u001b[0;31m         x, height, width, y, linewidth, hatch = np.broadcast_arrays(\n\u001b[0m\u001b[1;32m   2418\u001b[0m             \u001b[0;31m# Make args iterable too.\u001b[0m\u001b[0;34m\u001b[0m\u001b[0;34m\u001b[0m\u001b[0m\n\u001b[1;32m   2419\u001b[0m             np.atleast_1d(x), height, width, y, linewidth, hatch)\n",
            "\u001b[0;32m/usr/local/lib/python3.9/dist-packages/numpy/core/overrides.py\u001b[0m in \u001b[0;36mbroadcast_arrays\u001b[0;34m(*args, **kwargs)\u001b[0m\n",
            "\u001b[0;32m/usr/local/lib/python3.9/dist-packages/numpy/lib/stride_tricks.py\u001b[0m in \u001b[0;36mbroadcast_arrays\u001b[0;34m(subok, *args)\u001b[0m\n\u001b[1;32m    537\u001b[0m     \u001b[0margs\u001b[0m \u001b[0;34m=\u001b[0m \u001b[0;34m[\u001b[0m\u001b[0mnp\u001b[0m\u001b[0;34m.\u001b[0m\u001b[0marray\u001b[0m\u001b[0;34m(\u001b[0m\u001b[0m_m\u001b[0m\u001b[0;34m,\u001b[0m \u001b[0mcopy\u001b[0m\u001b[0;34m=\u001b[0m\u001b[0;32mFalse\u001b[0m\u001b[0;34m,\u001b[0m \u001b[0msubok\u001b[0m\u001b[0;34m=\u001b[0m\u001b[0msubok\u001b[0m\u001b[0;34m)\u001b[0m \u001b[0;32mfor\u001b[0m \u001b[0m_m\u001b[0m \u001b[0;32min\u001b[0m \u001b[0margs\u001b[0m\u001b[0;34m]\u001b[0m\u001b[0;34m\u001b[0m\u001b[0;34m\u001b[0m\u001b[0m\n\u001b[1;32m    538\u001b[0m \u001b[0;34m\u001b[0m\u001b[0m\n\u001b[0;32m--> 539\u001b[0;31m     \u001b[0mshape\u001b[0m \u001b[0;34m=\u001b[0m \u001b[0m_broadcast_shape\u001b[0m\u001b[0;34m(\u001b[0m\u001b[0;34m*\u001b[0m\u001b[0margs\u001b[0m\u001b[0;34m)\u001b[0m\u001b[0;34m\u001b[0m\u001b[0;34m\u001b[0m\u001b[0m\n\u001b[0m\u001b[1;32m    540\u001b[0m \u001b[0;34m\u001b[0m\u001b[0m\n\u001b[1;32m    541\u001b[0m     \u001b[0;32mif\u001b[0m \u001b[0mall\u001b[0m\u001b[0;34m(\u001b[0m\u001b[0marray\u001b[0m\u001b[0;34m.\u001b[0m\u001b[0mshape\u001b[0m \u001b[0;34m==\u001b[0m \u001b[0mshape\u001b[0m \u001b[0;32mfor\u001b[0m \u001b[0marray\u001b[0m \u001b[0;32min\u001b[0m \u001b[0margs\u001b[0m\u001b[0;34m)\u001b[0m\u001b[0;34m:\u001b[0m\u001b[0;34m\u001b[0m\u001b[0;34m\u001b[0m\u001b[0m\n",
            "\u001b[0;32m/usr/local/lib/python3.9/dist-packages/numpy/lib/stride_tricks.py\u001b[0m in \u001b[0;36m_broadcast_shape\u001b[0;34m(*args)\u001b[0m\n\u001b[1;32m    419\u001b[0m     \u001b[0;31m# use the old-iterator because np.nditer does not handle size 0 arrays\u001b[0m\u001b[0;34m\u001b[0m\u001b[0;34m\u001b[0m\u001b[0m\n\u001b[1;32m    420\u001b[0m     \u001b[0;31m# consistently\u001b[0m\u001b[0;34m\u001b[0m\u001b[0;34m\u001b[0m\u001b[0m\n\u001b[0;32m--> 421\u001b[0;31m     \u001b[0mb\u001b[0m \u001b[0;34m=\u001b[0m \u001b[0mnp\u001b[0m\u001b[0;34m.\u001b[0m\u001b[0mbroadcast\u001b[0m\u001b[0;34m(\u001b[0m\u001b[0;34m*\u001b[0m\u001b[0margs\u001b[0m\u001b[0;34m[\u001b[0m\u001b[0;34m:\u001b[0m\u001b[0;36m32\u001b[0m\u001b[0;34m]\u001b[0m\u001b[0;34m)\u001b[0m\u001b[0;34m\u001b[0m\u001b[0;34m\u001b[0m\u001b[0m\n\u001b[0m\u001b[1;32m    422\u001b[0m     \u001b[0;31m# unfortunately, it cannot handle 32 or more arguments directly\u001b[0m\u001b[0;34m\u001b[0m\u001b[0;34m\u001b[0m\u001b[0m\n\u001b[1;32m    423\u001b[0m     \u001b[0;32mfor\u001b[0m \u001b[0mpos\u001b[0m \u001b[0;32min\u001b[0m \u001b[0mrange\u001b[0m\u001b[0;34m(\u001b[0m\u001b[0;36m32\u001b[0m\u001b[0;34m,\u001b[0m \u001b[0mlen\u001b[0m\u001b[0;34m(\u001b[0m\u001b[0margs\u001b[0m\u001b[0;34m)\u001b[0m\u001b[0;34m,\u001b[0m \u001b[0;36m31\u001b[0m\u001b[0;34m)\u001b[0m\u001b[0;34m:\u001b[0m\u001b[0;34m\u001b[0m\u001b[0;34m\u001b[0m\u001b[0m\n",
            "\u001b[0;31mValueError\u001b[0m: shape mismatch: objects cannot be broadcast to a single shape.  Mismatch is between arg 0 with shape (10,) and arg 1 with shape (6,)."
          ]
        },
        {
          "output_type": "display_data",
          "data": {
            "text/plain": [
              "<Figure size 640x480 with 1 Axes>"
            ],
            "image/png": "[encoded data removed]"
          },
          "metadata": {}
        }
      ]
    },
    {
      "cell_type": "code",
      "source": [
        "#trend in activity over-time for repeated buyers\n",
        "purchased_rep = df[df['label'] == 1]\n",
        "new_df = purchased_rep.explode('time_stamp')\n",
        "new_df['date'] = new_df['time_stamp'].apply(lambda x: x[0][:2] + '/' + x[0][2:])\n",
        "purchases_by_day = new_df.groupby('time_stamp').size()\n",
        "plt.plot(purchases_by_day.index, purchases_by_day.values)\n",
        "plt.yscale('log')\n",
        "plt.xlabel('Date')\n",
        "plt.ylabel('No of Purchases')\n",
        "plt.title('Trend in Purchases over Time')\n",
        "plt.xticks(np.arange(0, len(purchases_by_day), 7), purchases_by_day.index[::7], rotation=45)\n",
        "plt.show()"
      ],
      "metadata": {
        "id": "HkNOMXhUcR7e",
        "colab": {
          "base_uri": "https://localhost:8080/",
          "height": 493
        },
        "outputId": "ab0ef0fa-d60c-41d1-be0b-0643deffe4ff"
      },
      "execution_count": 84,
      "outputs": [
        {
          "output_type": "display_data",
          "data": {
            "text/plain": [
              "<Figure size 640x480 with 1 Axes>"
            ],
            "image/png": "[encoded data removed]"
          },
          "metadata": {}
        }
      ]
    },
    {
      "cell_type": "code",
      "source": [
        "#Chart 4: Preferd purchased categories for female\n",
        "purchased_items = df[(df['label']==1) & (df['gender']==1)]\n",
        "purchased_items_new = purchased_items.explode('category_id')\n",
        "item_counts = purchased_items_new.groupby(['merchant_id', 'category_id']).size().unstack(fill_value=2)\n",
        "\n",
        "#considered categories if the no of purchases are more than 10\n",
        "item_counts = item_counts[item_counts > 10]\n",
        "plt.imshow(item_counts, cmap='coolwarm', aspect='auto', vmin=item_counts.min().min(), vmax=item_counts.max().max())\n",
        "plt.xticks(range(len(item_counts.columns)), item_counts.columns, rotation=90)\n",
        "plt.yticks(range(len(item_counts.index)), item_counts.index)\n",
        "plt.xlabel('Category')\n",
        "plt.ylabel('Merchant')\n",
        "plt.colorbar()\n",
        "plt.title('Prefered purchased categories for females')\n",
        "\n",
        "\n",
        "plt.locator_params(axis='x', nbins=10)\n",
        "plt.locator_params(axis='y', nbins=10)"
      ],
      "metadata": {
        "colab": {
          "base_uri": "https://localhost:8080/",
          "height": 493
        },
        "id": "VrZNMDPS_uo5",
        "outputId": "f082e038-61f1-4ce5-bcdd-a9db700f67c6"
      },
      "execution_count": 85,
      "outputs": [
        {
          "output_type": "display_data",
          "data": {
            "text/plain": [
              "<Figure size 640x480 with 2 Axes>"
            ],
            "image/png": "[encoded data removed]"
          },
          "metadata": {}
        }
      ]
    },
    {
      "cell_type": "code",
      "source": [
        "#Chart 4: Preferd purchased categories for males\n",
        "purchased_items = df[(df['label']==1) & (df['gender']==2)]\n",
        "purchased_items_new = purchased_items.explode('category_id')\n",
        "item_counts = purchased_items_new.groupby(['merchant_id', 'category_id']).size().unstack(fill_value=2)\n",
        "\n",
        "#considered categories if the no of purchases are more than 10\n",
        "item_counts = item_counts[item_counts > 2]\n",
        "\n",
        "plt.imshow(item_counts, cmap='coolwarm', aspect='auto', vmin=item_counts.min().min(), vmax=item_counts.max().max())\n",
        "plt.xticks(range(len(item_counts.columns)), item_counts.columns, rotation=90)\n",
        "plt.yticks(range(len(item_counts.index)), item_counts.index)\n",
        "plt.xlabel('Category')\n",
        "plt.ylabel('Merchant')\n",
        "plt.colorbar()\n",
        "plt.title('Prefered categories for males')\n",
        "\n",
        "\n",
        "plt.locator_params(axis='x', nbins=20)\n",
        "plt.locator_params(axis='y', nbins=20)\n"
      ],
      "metadata": {
        "colab": {
          "base_uri": "https://localhost:8080/",
          "height": 517
        },
        "id": "SLvBe27k-1Fh",
        "outputId": "cf068c27-e0e1-4f75-81b7-c2bbec8a129d"
      },
      "execution_count": 86,
      "outputs": [
        {
          "output_type": "stream",
          "name": "stderr",
          "text": [
            "<ipython-input-86-38a9270e9f11>:9: UserWarning: Attempting to set identical low and high xlims makes transformation singular; automatically expanding.\n",
            "  plt.imshow(item_counts, cmap='coolwarm', aspect='auto', vmin=item_counts.min().min(), vmax=item_counts.max().max())\n",
            "<ipython-input-86-38a9270e9f11>:9: UserWarning: Attempting to set identical low and high ylims makes transformation singular; automatically expanding.\n",
            "  plt.imshow(item_counts, cmap='coolwarm', aspect='auto', vmin=item_counts.min().min(), vmax=item_counts.max().max())\n"
          ]
        },
        {
          "output_type": "display_data",
          "data": {
            "text/plain": [
              "<Figure size 640x480 with 2 Axes>"
            ],
            "image/png": "[encoded data removed]"
          },
          "metadata": {}
        }
      ]
    },
    {
      "cell_type": "markdown",
      "source": [
        "#Feature Engineering"
      ],
      "metadata": {
        "id": "dbTo4VzGZxTO"
      }
    },
    {
      "cell_type": "code",
      "source": [
        "#Feature : 1\n",
        "#Profile - user\n",
        "#U_merchant_buy_item_num_avg - averge number of unique items bought from merchants by the user\n",
        "# Group the data by user and merchant, then count the number of unique items bought\n",
        "\n",
        "group1_df = df.explode('item_id')\n",
        "unique_items = group1_df.groupby(['user_id', 'merchant_id'])['item_id'].nunique()\n",
        "# Average of these counts for each user\n",
        "avg_unique_items = unique_items.groupby('user_id').mean()\n",
        "# Adding new feature to the DataFrame\n",
        "df['avg_unique_items_per_user'] = df['user_id'].map(avg_unique_items)"
      ],
      "metadata": {
        "id": "_DjUFc5ygtie"
      },
      "execution_count": 87,
      "outputs": []
    },
    {
      "cell_type": "code",
      "source": [
        "#Feature : 2\n",
        "#Profile - merchant\n",
        "#The number of days that users made a purchase from the merchant\n",
        "\n",
        "group2_df = df.explode('time_stamp')\n",
        "# Converting to datetime format\n",
        "group2_df['time_stamp'] = pd.to_datetime(group2_df['time_stamp'], format='%m%d')\n",
        "\n",
        "# Calculating the number of days between each purchase made by each user from each merchant\n",
        "days_between_purchases = group2_df.groupby(['user_id', 'merchant_id'])['time_stamp'].apply(lambda x: np.diff(x).astype('timedelta64[D]')).to_frame()\n",
        "days_between_purchases = days_between_purchases[days_between_purchases['time_stamp'].str.len() > 0]"
      ],
      "metadata": {
        "id": "PmCRvusJdDSE"
      },
      "execution_count": 88,
      "outputs": []
    },
    {
      "cell_type": "code",
      "source": [
        "#feature : 3 - user\n",
        "#extract proporting of repeated purchased days of only female users within 30 days\n",
        "threshold = pd.Timedelta(days=30)\n",
        "\n",
        "grou3_df = df.explode('time_stamp')\n",
        "grou3_df = grou3_df[(grou3_df['gender'] == 0) & (grou3_df['label'] == 1)]\n",
        "groups = grou3_df.groupby('user_id')\n",
        "\n",
        "#calculate repeated buyer for each group\n",
        "repeated_female_buyer_days_per_user = []\n",
        "for user_id, group in groups:\n",
        "    dates = pd.to_datetime(group['time_stamp'], format='%m%d')\n",
        "    diffs = dates.diff()\n",
        "    repeated_female_buyer_days_per_user.append((diffs <= threshold).sum())\n",
        "\n",
        "# Calculate the proportion of repeated purchased date\n",
        "total_users = len(groups)\n",
        "users_with_repeat_buy_days = (pd.Series(repeated_female_buyer_days_per_user) > 0).sum()\n",
        "proportion_of_repeat_buy_days = users_with_repeat_buy_days / total_users\n",
        "df['proportion_of_repeat_buy_days'] = df['user_id'].map({u: proportion_of_repeat_buy_days for u in df['user_id'].unique()})\n",
        "\n",
        "print(proportion_of_repeat_buy_days)"
      ],
      "metadata": {
        "colab": {
          "base_uri": "https://localhost:8080/"
        },
        "id": "FXXei3PRw6wp",
        "outputId": "ba1f53b3-a9b0-498b-8092-557ab0bfa173"
      },
      "execution_count": 89,
      "outputs": [
        {
          "output_type": "stream",
          "name": "stdout",
          "text": [
            "0.5\n"
          ]
        }
      ]
    },
    {
      "cell_type": "code",
      "source": [
        "#feature : 4 - items\n",
        "#Items that were clicked in during highest activity months - October and November\n",
        "group4_df = df.explode('time_stamp').explode('action_type')\n",
        "group4_df = group4_df[(group4_df['action_type'] == '0')]\n",
        "df_clicked_oct_nov = group4_df[group4_df['time_stamp'].apply(lambda x: x[0:2] in ['10', '11'])]\n",
        "items_clicked = df_clicked_oct_nov['item_id'].explode('item_id').unique()\n",
        "df['item_clicked_in_oct_nov'] = df['item_id'].apply(lambda x: x in items_clicked)\n",
        "\n",
        "print(f\"Total of {len(items_clicked)} were clicked during the highest activity months\")"
      ],
      "metadata": {
        "colab": {
          "base_uri": "https://localhost:8080/"
        },
        "id": "K6qbc0Kf5U14",
        "outputId": "20315e63-1a41-4662-d92e-e5b46a0802ab"
      },
      "execution_count": 90,
      "outputs": [
        {
          "output_type": "stream",
          "name": "stdout",
          "text": [
            "Total of 95 were clicked during the highest activity months\n"
          ]
        },
        {
          "output_type": "stream",
          "name": "stderr",
          "text": [
            "<ipython-input-90-344a73da5f24>:7: FutureWarning: elementwise comparison failed; returning scalar instead, but in the future will perform elementwise comparison\n",
            "  df['item_clicked_in_oct_nov'] = df['item_id'].apply(lambda x: x in items_clicked)\n"
          ]
        }
      ]
    },
    {
      "cell_type": "code",
      "source": [
        "#Feature : 6 - categories \n",
        "#number of unique categories a user has purchased\n",
        "group6_df = df.explode('action_type')\n",
        "group6_df = group6_df[(group6_df['action_type'] == '2')]\n",
        "\n",
        "# reset index to resolve potential duplicate index values - will be handeled in preprocessing - filtering\n",
        "group6_df = group6_df.reset_index(drop=True)\n",
        "df['num_categories'] = group6_df['category_id'].apply(lambda x: len(set(x)))"
      ],
      "metadata": {
        "id": "9rOg2QAS7o4V"
      },
      "execution_count": 91,
      "outputs": []
    },
    {
      "cell_type": "code",
      "source": [
        "#Feature : 7 - Number of times user has clicked a particular brand\n",
        "group7_df = df.explode('action_type').explode('brand_id')\n",
        "brand_clicks = group7_df[group7_df['action_type'] == '0'].groupby(['user_id', 'brand_id']).size().reset_index(name='brand_clicks')\n",
        "group7_df = pd.merge(group7_df, brand_clicks, on=['user_id', 'brand_id'], how='left')\n",
        "df['brand_clicks'] = group7_df['brand_clicks'].fillna(0)\n",
        "print(df.head(5))"
      ],
      "metadata": {
        "colab": {
          "base_uri": "https://localhost:8080/"
        },
        "id": "zlkVy6yiEAul",
        "outputId": "8139fa52-da39-4416-f233-73210473ed85"
      },
      "execution_count": 92,
      "outputs": [
        {
          "output_type": "stream",
          "name": "stdout",
          "text": [
            "   Unnamed: 0.3  Unnamed: 0.2  Unnamed: 0.1  Unnamed: 0  user_id  age_range  \\\n",
            "0             0             0             0       14527   338817        3.0   \n",
            "1             1             1             1       15997   149121        5.0   \n",
            "2             2             2             2       16308    85377        3.0   \n",
            "3             3             3             3       16312    85377        3.0   \n",
            "4             4             4             4       18315    35202        3.0   \n",
            "\n",
            "   gender  merchant_id  label       item_id category_id      brand_id  \\\n",
            "0     0.0          506     -1        [1194]       [464]        [7500]   \n",
            "1     1.0         2468     -1        [1265]       [776]        [1392]   \n",
            "2     1.0         3183     -1  [1272, 1272]  [407, 407]  [8235, 8235]   \n",
            "3     1.0         3491     -1        [1151]      [1611]        [3969]   \n",
            "4     1.0         1887     -1        [1142]      [1389]        [3481]   \n",
            "\n",
            "     time_stamp action_type  avg_unique_items_per_user  \\\n",
            "0        [0511]         [3]                        1.0   \n",
            "1        [0822]         [0]                        1.0   \n",
            "2  [0626, 0618]      [0, 0]                        1.0   \n",
            "3        [1111]         [0]                        1.0   \n",
            "4        [1101]         [0]                        1.0   \n",
            "\n",
            "   proportion_of_repeat_buy_days  item_clicked_in_oct_nov  num_categories  \\\n",
            "0                            0.5                    False             1.0   \n",
            "1                            0.5                     True             1.0   \n",
            "2                            0.5                    False             1.0   \n",
            "3                            0.5                     True             1.0   \n",
            "4                            0.5                     True             1.0   \n",
            "\n",
            "   brand_clicks  \n",
            "0           0.0  \n",
            "1           1.0  \n",
            "2           4.0  \n",
            "3           4.0  \n",
            "4           4.0  \n"
          ]
        }
      ]
    },
    {
      "cell_type": "markdown",
      "source": [
        "#Dataset statistics and feature ranking\n"
      ],
      "metadata": {
        "id": "muJNZ8AmURVs"
      }
    },
    {
      "cell_type": "code",
      "source": [],
      "metadata": {
        "id": "CbGj_2DrzoHH"
      },
      "execution_count": null,
      "outputs": []
    },
    {
      "cell_type": "markdown",
      "source": [
        "## Prediction Model"
      ],
      "metadata": {
        "id": "bx9HbyyA0m50"
      }
    },
    {
      "cell_type": "code",
      "source": [
        "import itertools\n",
        "import pandas as pd\n",
        "import numpy as np"
      ],
      "metadata": {
        "id": "XgrrdDk37luM"
      },
      "execution_count": 97,
      "outputs": []
    },
    {
      "cell_type": "code",
      "source": [
        "# Define the list of features to use in the model\n",
        "features = ['avg_unique_items_per_user', 'proportion_of_repeat_buy_days', 'item_clicked_in_oct_nov', 'num_categories', 'brand_clicks']\n",
        "\n",
        "# Generate all possible combinations of the features\n",
        "feature_combinations = []\n",
        "for i in range(1, len(features) + 1):\n",
        "    feature_combinations += list(itertools.combinations(features, i))\n"
      ],
      "metadata": {
        "id": "LfFwe-hF0u4C"
      },
      "execution_count": 98,
      "outputs": []
    },
    {
      "cell_type": "code",
      "source": [
        "# Iterate through each feature combination and remove potential correlated features\n",
        "for feature_list in feature_combinations:\n",
        "    corr_matrix = df[list(feature_list)].corr().abs()\n",
        "    upper_tri = corr_matrix.where(np.triu(np.ones(corr_matrix.shape), k=1).astype(np.bool))\n",
        "    to_drop = [column for column in upper_tri.columns if any(upper_tri[column] > 0.7)]\n",
        "    if len(to_drop) > 0:\n",
        "        print(f\"Dropping {to_drop} due to high correlation\")\n",
        "        df = df.drop(to_drop, axis=1)\n",
        "\n",
        "# Add the derived features to the DataFrame\n",
        "group1_df = df.explode('Unnamed: 0')\n",
        "unique_items = group1_df.groupby(['user_id', 'merchant_id'])['Unnamed: 0'].nunique()\n",
        "avg_unique_items = unique_items.groupby('user_id').mean()\n",
        "df['avg_unique_items_per_user'] = df['user_id'].map(avg_unique_items)\n"
      ],
      "metadata": {
        "colab": {
          "base_uri": "https://localhost:8080/"
        },
        "id": "uDQvz9eM7rW0",
        "outputId": "3127aa7b-ec39-48da-bf50-86fd7dd4bd03"
      },
      "execution_count": 99,
      "outputs": [
        {
          "output_type": "stream",
          "name": "stderr",
          "text": [
            "<ipython-input-99-91dcbfb259b5>:4: DeprecationWarning: `np.bool` is a deprecated alias for the builtin `bool`. To silence this warning, use `bool` by itself. Doing this will not modify any behavior and is safe. If you specifically wanted the numpy scalar type, use `np.bool_` here.\n",
            "Deprecated in NumPy 1.20; for more details and guidance: https://numpy.org/devdocs/release/1.20.0-notes.html#deprecations\n",
            "  upper_tri = corr_matrix.where(np.triu(np.ones(corr_matrix.shape), k=1).astype(np.bool))\n",
            "<ipython-input-99-91dcbfb259b5>:4: DeprecationWarning: `np.bool` is a deprecated alias for the builtin `bool`. To silence this warning, use `bool` by itself. Doing this will not modify any behavior and is safe. If you specifically wanted the numpy scalar type, use `np.bool_` here.\n",
            "Deprecated in NumPy 1.20; for more details and guidance: https://numpy.org/devdocs/release/1.20.0-notes.html#deprecations\n",
            "  upper_tri = corr_matrix.where(np.triu(np.ones(corr_matrix.shape), k=1).astype(np.bool))\n",
            "<ipython-input-99-91dcbfb259b5>:4: DeprecationWarning: `np.bool` is a deprecated alias for the builtin `bool`. To silence this warning, use `bool` by itself. Doing this will not modify any behavior and is safe. If you specifically wanted the numpy scalar type, use `np.bool_` here.\n",
            "Deprecated in NumPy 1.20; for more details and guidance: https://numpy.org/devdocs/release/1.20.0-notes.html#deprecations\n",
            "  upper_tri = corr_matrix.where(np.triu(np.ones(corr_matrix.shape), k=1).astype(np.bool))\n",
            "<ipython-input-99-91dcbfb259b5>:4: DeprecationWarning: `np.bool` is a deprecated alias for the builtin `bool`. To silence this warning, use `bool` by itself. Doing this will not modify any behavior and is safe. If you specifically wanted the numpy scalar type, use `np.bool_` here.\n",
            "Deprecated in NumPy 1.20; for more details and guidance: https://numpy.org/devdocs/release/1.20.0-notes.html#deprecations\n",
            "  upper_tri = corr_matrix.where(np.triu(np.ones(corr_matrix.shape), k=1).astype(np.bool))\n",
            "<ipython-input-99-91dcbfb259b5>:4: DeprecationWarning: `np.bool` is a deprecated alias for the builtin `bool`. To silence this warning, use `bool` by itself. Doing this will not modify any behavior and is safe. If you specifically wanted the numpy scalar type, use `np.bool_` here.\n",
            "Deprecated in NumPy 1.20; for more details and guidance: https://numpy.org/devdocs/release/1.20.0-notes.html#deprecations\n",
            "  upper_tri = corr_matrix.where(np.triu(np.ones(corr_matrix.shape), k=1).astype(np.bool))\n",
            "<ipython-input-99-91dcbfb259b5>:4: DeprecationWarning: `np.bool` is a deprecated alias for the builtin `bool`. To silence this warning, use `bool` by itself. Doing this will not modify any behavior and is safe. If you specifically wanted the numpy scalar type, use `np.bool_` here.\n",
            "Deprecated in NumPy 1.20; for more details and guidance: https://numpy.org/devdocs/release/1.20.0-notes.html#deprecations\n",
            "  upper_tri = corr_matrix.where(np.triu(np.ones(corr_matrix.shape), k=1).astype(np.bool))\n",
            "<ipython-input-99-91dcbfb259b5>:4: DeprecationWarning: `np.bool` is a deprecated alias for the builtin `bool`. To silence this warning, use `bool` by itself. Doing this will not modify any behavior and is safe. If you specifically wanted the numpy scalar type, use `np.bool_` here.\n",
            "Deprecated in NumPy 1.20; for more details and guidance: https://numpy.org/devdocs/release/1.20.0-notes.html#deprecations\n",
            "  upper_tri = corr_matrix.where(np.triu(np.ones(corr_matrix.shape), k=1).astype(np.bool))\n",
            "<ipython-input-99-91dcbfb259b5>:4: DeprecationWarning: `np.bool` is a deprecated alias for the builtin `bool`. To silence this warning, use `bool` by itself. Doing this will not modify any behavior and is safe. If you specifically wanted the numpy scalar type, use `np.bool_` here.\n",
            "Deprecated in NumPy 1.20; for more details and guidance: https://numpy.org/devdocs/release/1.20.0-notes.html#deprecations\n",
            "  upper_tri = corr_matrix.where(np.triu(np.ones(corr_matrix.shape), k=1).astype(np.bool))\n",
            "<ipython-input-99-91dcbfb259b5>:4: DeprecationWarning: `np.bool` is a deprecated alias for the builtin `bool`. To silence this warning, use `bool` by itself. Doing this will not modify any behavior and is safe. If you specifically wanted the numpy scalar type, use `np.bool_` here.\n",
            "Deprecated in NumPy 1.20; for more details and guidance: https://numpy.org/devdocs/release/1.20.0-notes.html#deprecations\n",
            "  upper_tri = corr_matrix.where(np.triu(np.ones(corr_matrix.shape), k=1).astype(np.bool))\n",
            "<ipython-input-99-91dcbfb259b5>:4: DeprecationWarning: `np.bool` is a deprecated alias for the builtin `bool`. To silence this warning, use `bool` by itself. Doing this will not modify any behavior and is safe. If you specifically wanted the numpy scalar type, use `np.bool_` here.\n",
            "Deprecated in NumPy 1.20; for more details and guidance: https://numpy.org/devdocs/release/1.20.0-notes.html#deprecations\n",
            "  upper_tri = corr_matrix.where(np.triu(np.ones(corr_matrix.shape), k=1).astype(np.bool))\n",
            "<ipython-input-99-91dcbfb259b5>:4: DeprecationWarning: `np.bool` is a deprecated alias for the builtin `bool`. To silence this warning, use `bool` by itself. Doing this will not modify any behavior and is safe. If you specifically wanted the numpy scalar type, use `np.bool_` here.\n",
            "Deprecated in NumPy 1.20; for more details and guidance: https://numpy.org/devdocs/release/1.20.0-notes.html#deprecations\n",
            "  upper_tri = corr_matrix.where(np.triu(np.ones(corr_matrix.shape), k=1).astype(np.bool))\n",
            "<ipython-input-99-91dcbfb259b5>:4: DeprecationWarning: `np.bool` is a deprecated alias for the builtin `bool`. To silence this warning, use `bool` by itself. Doing this will not modify any behavior and is safe. If you specifically wanted the numpy scalar type, use `np.bool_` here.\n",
            "Deprecated in NumPy 1.20; for more details and guidance: https://numpy.org/devdocs/release/1.20.0-notes.html#deprecations\n",
            "  upper_tri = corr_matrix.where(np.triu(np.ones(corr_matrix.shape), k=1).astype(np.bool))\n",
            "<ipython-input-99-91dcbfb259b5>:4: DeprecationWarning: `np.bool` is a deprecated alias for the builtin `bool`. To silence this warning, use `bool` by itself. Doing this will not modify any behavior and is safe. If you specifically wanted the numpy scalar type, use `np.bool_` here.\n",
            "Deprecated in NumPy 1.20; for more details and guidance: https://numpy.org/devdocs/release/1.20.0-notes.html#deprecations\n",
            "  upper_tri = corr_matrix.where(np.triu(np.ones(corr_matrix.shape), k=1).astype(np.bool))\n",
            "<ipython-input-99-91dcbfb259b5>:4: DeprecationWarning: `np.bool` is a deprecated alias for the builtin `bool`. To silence this warning, use `bool` by itself. Doing this will not modify any behavior and is safe. If you specifically wanted the numpy scalar type, use `np.bool_` here.\n",
            "Deprecated in NumPy 1.20; for more details and guidance: https://numpy.org/devdocs/release/1.20.0-notes.html#deprecations\n",
            "  upper_tri = corr_matrix.where(np.triu(np.ones(corr_matrix.shape), k=1).astype(np.bool))\n",
            "<ipython-input-99-91dcbfb259b5>:4: DeprecationWarning: `np.bool` is a deprecated alias for the builtin `bool`. To silence this warning, use `bool` by itself. Doing this will not modify any behavior and is safe. If you specifically wanted the numpy scalar type, use `np.bool_` here.\n",
            "Deprecated in NumPy 1.20; for more details and guidance: https://numpy.org/devdocs/release/1.20.0-notes.html#deprecations\n",
            "  upper_tri = corr_matrix.where(np.triu(np.ones(corr_matrix.shape), k=1).astype(np.bool))\n",
            "<ipython-input-99-91dcbfb259b5>:4: DeprecationWarning: `np.bool` is a deprecated alias for the builtin `bool`. To silence this warning, use `bool` by itself. Doing this will not modify any behavior and is safe. If you specifically wanted the numpy scalar type, use `np.bool_` here.\n",
            "Deprecated in NumPy 1.20; for more details and guidance: https://numpy.org/devdocs/release/1.20.0-notes.html#deprecations\n",
            "  upper_tri = corr_matrix.where(np.triu(np.ones(corr_matrix.shape), k=1).astype(np.bool))\n",
            "<ipython-input-99-91dcbfb259b5>:4: DeprecationWarning: `np.bool` is a deprecated alias for the builtin `bool`. To silence this warning, use `bool` by itself. Doing this will not modify any behavior and is safe. If you specifically wanted the numpy scalar type, use `np.bool_` here.\n",
            "Deprecated in NumPy 1.20; for more details and guidance: https://numpy.org/devdocs/release/1.20.0-notes.html#deprecations\n",
            "  upper_tri = corr_matrix.where(np.triu(np.ones(corr_matrix.shape), k=1).astype(np.bool))\n",
            "<ipython-input-99-91dcbfb259b5>:4: DeprecationWarning: `np.bool` is a deprecated alias for the builtin `bool`. To silence this warning, use `bool` by itself. Doing this will not modify any behavior and is safe. If you specifically wanted the numpy scalar type, use `np.bool_` here.\n",
            "Deprecated in NumPy 1.20; for more details and guidance: https://numpy.org/devdocs/release/1.20.0-notes.html#deprecations\n",
            "  upper_tri = corr_matrix.where(np.triu(np.ones(corr_matrix.shape), k=1).astype(np.bool))\n",
            "<ipython-input-99-91dcbfb259b5>:4: DeprecationWarning: `np.bool` is a deprecated alias for the builtin `bool`. To silence this warning, use `bool` by itself. Doing this will not modify any behavior and is safe. If you specifically wanted the numpy scalar type, use `np.bool_` here.\n",
            "Deprecated in NumPy 1.20; for more details and guidance: https://numpy.org/devdocs/release/1.20.0-notes.html#deprecations\n",
            "  upper_tri = corr_matrix.where(np.triu(np.ones(corr_matrix.shape), k=1).astype(np.bool))\n",
            "<ipython-input-99-91dcbfb259b5>:4: DeprecationWarning: `np.bool` is a deprecated alias for the builtin `bool`. To silence this warning, use `bool` by itself. Doing this will not modify any behavior and is safe. If you specifically wanted the numpy scalar type, use `np.bool_` here.\n",
            "Deprecated in NumPy 1.20; for more details and guidance: https://numpy.org/devdocs/release/1.20.0-notes.html#deprecations\n",
            "  upper_tri = corr_matrix.where(np.triu(np.ones(corr_matrix.shape), k=1).astype(np.bool))\n",
            "<ipython-input-99-91dcbfb259b5>:4: DeprecationWarning: `np.bool` is a deprecated alias for the builtin `bool`. To silence this warning, use `bool` by itself. Doing this will not modify any behavior and is safe. If you specifically wanted the numpy scalar type, use `np.bool_` here.\n",
            "Deprecated in NumPy 1.20; for more details and guidance: https://numpy.org/devdocs/release/1.20.0-notes.html#deprecations\n",
            "  upper_tri = corr_matrix.where(np.triu(np.ones(corr_matrix.shape), k=1).astype(np.bool))\n",
            "<ipython-input-99-91dcbfb259b5>:4: DeprecationWarning: `np.bool` is a deprecated alias for the builtin `bool`. To silence this warning, use `bool` by itself. Doing this will not modify any behavior and is safe. If you specifically wanted the numpy scalar type, use `np.bool_` here.\n",
            "Deprecated in NumPy 1.20; for more details and guidance: https://numpy.org/devdocs/release/1.20.0-notes.html#deprecations\n",
            "  upper_tri = corr_matrix.where(np.triu(np.ones(corr_matrix.shape), k=1).astype(np.bool))\n",
            "<ipython-input-99-91dcbfb259b5>:4: DeprecationWarning: `np.bool` is a deprecated alias for the builtin `bool`. To silence this warning, use `bool` by itself. Doing this will not modify any behavior and is safe. If you specifically wanted the numpy scalar type, use `np.bool_` here.\n",
            "Deprecated in NumPy 1.20; for more details and guidance: https://numpy.org/devdocs/release/1.20.0-notes.html#deprecations\n",
            "  upper_tri = corr_matrix.where(np.triu(np.ones(corr_matrix.shape), k=1).astype(np.bool))\n",
            "<ipython-input-99-91dcbfb259b5>:4: DeprecationWarning: `np.bool` is a deprecated alias for the builtin `bool`. To silence this warning, use `bool` by itself. Doing this will not modify any behavior and is safe. If you specifically wanted the numpy scalar type, use `np.bool_` here.\n",
            "Deprecated in NumPy 1.20; for more details and guidance: https://numpy.org/devdocs/release/1.20.0-notes.html#deprecations\n",
            "  upper_tri = corr_matrix.where(np.triu(np.ones(corr_matrix.shape), k=1).astype(np.bool))\n",
            "<ipython-input-99-91dcbfb259b5>:4: DeprecationWarning: `np.bool` is a deprecated alias for the builtin `bool`. To silence this warning, use `bool` by itself. Doing this will not modify any behavior and is safe. If you specifically wanted the numpy scalar type, use `np.bool_` here.\n",
            "Deprecated in NumPy 1.20; for more details and guidance: https://numpy.org/devdocs/release/1.20.0-notes.html#deprecations\n",
            "  upper_tri = corr_matrix.where(np.triu(np.ones(corr_matrix.shape), k=1).astype(np.bool))\n",
            "<ipython-input-99-91dcbfb259b5>:4: DeprecationWarning: `np.bool` is a deprecated alias for the builtin `bool`. To silence this warning, use `bool` by itself. Doing this will not modify any behavior and is safe. If you specifically wanted the numpy scalar type, use `np.bool_` here.\n",
            "Deprecated in NumPy 1.20; for more details and guidance: https://numpy.org/devdocs/release/1.20.0-notes.html#deprecations\n",
            "  upper_tri = corr_matrix.where(np.triu(np.ones(corr_matrix.shape), k=1).astype(np.bool))\n",
            "<ipython-input-99-91dcbfb259b5>:4: DeprecationWarning: `np.bool` is a deprecated alias for the builtin `bool`. To silence this warning, use `bool` by itself. Doing this will not modify any behavior and is safe. If you specifically wanted the numpy scalar type, use `np.bool_` here.\n",
            "Deprecated in NumPy 1.20; for more details and guidance: https://numpy.org/devdocs/release/1.20.0-notes.html#deprecations\n",
            "  upper_tri = corr_matrix.where(np.triu(np.ones(corr_matrix.shape), k=1).astype(np.bool))\n",
            "<ipython-input-99-91dcbfb259b5>:4: DeprecationWarning: `np.bool` is a deprecated alias for the builtin `bool`. To silence this warning, use `bool` by itself. Doing this will not modify any behavior and is safe. If you specifically wanted the numpy scalar type, use `np.bool_` here.\n",
            "Deprecated in NumPy 1.20; for more details and guidance: https://numpy.org/devdocs/release/1.20.0-notes.html#deprecations\n",
            "  upper_tri = corr_matrix.where(np.triu(np.ones(corr_matrix.shape), k=1).astype(np.bool))\n",
            "<ipython-input-99-91dcbfb259b5>:4: DeprecationWarning: `np.bool` is a deprecated alias for the builtin `bool`. To silence this warning, use `bool` by itself. Doing this will not modify any behavior and is safe. If you specifically wanted the numpy scalar type, use `np.bool_` here.\n",
            "Deprecated in NumPy 1.20; for more details and guidance: https://numpy.org/devdocs/release/1.20.0-notes.html#deprecations\n",
            "  upper_tri = corr_matrix.where(np.triu(np.ones(corr_matrix.shape), k=1).astype(np.bool))\n",
            "<ipython-input-99-91dcbfb259b5>:4: DeprecationWarning: `np.bool` is a deprecated alias for the builtin `bool`. To silence this warning, use `bool` by itself. Doing this will not modify any behavior and is safe. If you specifically wanted the numpy scalar type, use `np.bool_` here.\n",
            "Deprecated in NumPy 1.20; for more details and guidance: https://numpy.org/devdocs/release/1.20.0-notes.html#deprecations\n",
            "  upper_tri = corr_matrix.where(np.triu(np.ones(corr_matrix.shape), k=1).astype(np.bool))\n",
            "<ipython-input-99-91dcbfb259b5>:4: DeprecationWarning: `np.bool` is a deprecated alias for the builtin `bool`. To silence this warning, use `bool` by itself. Doing this will not modify any behavior and is safe. If you specifically wanted the numpy scalar type, use `np.bool_` here.\n",
            "Deprecated in NumPy 1.20; for more details and guidance: https://numpy.org/devdocs/release/1.20.0-notes.html#deprecations\n",
            "  upper_tri = corr_matrix.where(np.triu(np.ones(corr_matrix.shape), k=1).astype(np.bool))\n"
          ]
        }
      ]
    },
    {
      "cell_type": "code",
      "source": [
        "# Select the features to use in the model\n",
        "X = df[features]\n"
      ],
      "metadata": {
        "id": "Kt4Qm0ZJ7-7L"
      },
      "execution_count": 101,
      "outputs": []
    },
    {
      "cell_type": "code",
      "source": [
        "# Train your machine learning model using X and your target variable y"
      ],
      "metadata": {
        "id": "q4_hzSxr7_Bh"
      },
      "execution_count": null,
      "outputs": []
    },
    {
      "cell_type": "code",
      "source": [],
      "metadata": {
        "id": "tiWKhuS07_EW"
      },
      "execution_count": null,
      "outputs": []
    },
    {
      "cell_type": "code",
      "source": [],
      "metadata": {
        "id": "rNMsfF0i7_Hj"
      },
      "execution_count": null,
      "outputs": []
    }
  ]
}